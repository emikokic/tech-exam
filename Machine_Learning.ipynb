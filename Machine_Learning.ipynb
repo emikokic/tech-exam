{
 "cells": [
  {
   "cell_type": "markdown",
   "metadata": {},
   "source": [
    "# Machine Learning Exercise"
   ]
  },
  {
   "cell_type": "markdown",
   "metadata": {},
   "source": [
    "En la industria de la publicidad online, se llama impresión a cuando se muestra un anuncio a un usuario, y click, a cuando el usuario clickea el mismo, y en los casos en los que se hace click, ambos eventos son guardados compartiendo un identificador correspondiente a la transacción.\n",
    "\n",
    "A menudo se considera una tarea importante la capacidad de las empresas para predecir que usuarios van a hacer click en un anuncio antes de mostrarlo, ya que puede haber más de un anuncio disponible y mostrarlo incurre un costo.\n",
    "\n",
    "Se cuenta con una base de datos con el siguiente esquema:\n",
    "\n",
    "![alt text](./scheme_imps_clicks.png)\n",
    "\n",
    "\n",
    "Aquí ([descargar](https://drive.google.com/uc?id=1fmhC3Wjvp_n7pMcKKL8ZQPXZng5QW8bb&export=download)) se cuenta con una base de datos sqlite3 con datos de ejemplo, para trabajar.\n",
    "\n",
    "La misma cuenta con una muestra de unos pocos días de datos, en la que las variables categóricas han sido hasheadas para mantener los nombres anónimos, esto puede considerarse irrelevante, las mismas corresponden a datos como el país donde ocurrió la impresión o a que cliente y proveedor corresponde.\n",
    "\n",
    "\n"
   ]
  },
  {
   "cell_type": "markdown",
   "metadata": {},
   "source": [
    "1. Utilizar la base de datos para entrenar un modelo para estimar si una impresión va a ser clickeada.\n",
    "Nota: se considera que una impresión fue clickeada, si hay un click con el mismo id cuyo timestamp es lo sumo 2 horas mayor al de la impresión\n",
    "Se deben utilizar los primeros días de datos como datos de entrenamiento y el último día como test para evaluar su modelo.\n",
    "2. Describa el modelo, algoritmo y metodología utilizada.\n",
    "3. Presente brevemente los resultados obtenidos. Como los evaluó? Por qué?\n",
    "4. Bonus: Cambiaría algo a su solución si la base de datos fuese 10 veces más grande que la provista? Que?"
   ]
  },
  {
   "cell_type": "code",
   "execution_count": 50,
   "metadata": {},
   "outputs": [],
   "source": [
    "import numpy as np\n",
    "import pandas as pd\n",
    "import sqlite3\n",
    "from sklearn.model_selection import train_test_split\n",
    "from sklearn.linear_model import LogisticRegression\n",
    "from sklearn.metrics import f1_score, accuracy_score"
   ]
  },
  {
   "cell_type": "code",
   "execution_count": 2,
   "metadata": {},
   "outputs": [],
   "source": [
    "cnx = sqlite3.connect('imps_clicks.db.2')"
   ]
  },
  {
   "cell_type": "code",
   "execution_count": 3,
   "metadata": {},
   "outputs": [],
   "source": [
    "impressions = pd.read_sql_query(\"SELECT * FROM impressions\", cnx)\n",
    "# impressions.to_csv('impressions.csv')\n",
    "# impressions = pd.read_csv('impressions.csv')"
   ]
  },
  {
   "cell_type": "code",
   "execution_count": 4,
   "metadata": {},
   "outputs": [],
   "source": [
    "clicks = pd.read_sql_query(\"SELECT * FROM clicks\", cnx)"
   ]
  },
  {
   "cell_type": "code",
   "execution_count": 5,
   "metadata": {},
   "outputs": [
    {
     "name": "stdout",
     "output_type": "stream",
     "text": [
      "(3634110, 26)\n",
      "(145809, 3)\n",
      "True\n",
      "True\n"
     ]
    }
   ],
   "source": [
    "print(impressions.shape)\n",
    "print(clicks.shape)\n",
    "print(impressions.shape[0] == len(impressions['id'].unique()))\n",
    "print(clicks.shape[0] == len(clicks['id'].unique()))"
   ]
  },
  {
   "cell_type": "code",
   "execution_count": 6,
   "metadata": {},
   "outputs": [
    {
     "data": {
      "text/html": [
       "<div>\n",
       "<style scoped>\n",
       "    .dataframe tbody tr th:only-of-type {\n",
       "        vertical-align: middle;\n",
       "    }\n",
       "\n",
       "    .dataframe tbody tr th {\n",
       "        vertical-align: top;\n",
       "    }\n",
       "\n",
       "    .dataframe thead th {\n",
       "        text-align: right;\n",
       "    }\n",
       "</style>\n",
       "<table border=\"1\" class=\"dataframe\">\n",
       "  <thead>\n",
       "    <tr style=\"text-align: right;\">\n",
       "      <th></th>\n",
       "      <th>id</th>\n",
       "      <th>time</th>\n",
       "      <th>r_bidfloor</th>\n",
       "      <th>r_age</th>\n",
       "      <th>r_height</th>\n",
       "      <th>r_width</th>\n",
       "      <th>categorical_0</th>\n",
       "      <th>categorical_1</th>\n",
       "      <th>categorical_2</th>\n",
       "      <th>categorical_3</th>\n",
       "      <th>...</th>\n",
       "      <th>categorical_10</th>\n",
       "      <th>categorical_11</th>\n",
       "      <th>categorical_12</th>\n",
       "      <th>categorical_13</th>\n",
       "      <th>categorical_14</th>\n",
       "      <th>categorical_15</th>\n",
       "      <th>categorical_16</th>\n",
       "      <th>categorical_17</th>\n",
       "      <th>categorical_18</th>\n",
       "      <th>categorical_19</th>\n",
       "    </tr>\n",
       "  </thead>\n",
       "  <tbody>\n",
       "    <tr>\n",
       "      <th>0</th>\n",
       "      <td>292168921339466749</td>\n",
       "      <td>1.525719e+09</td>\n",
       "      <td>0.090</td>\n",
       "      <td>NaN</td>\n",
       "      <td>NaN</td>\n",
       "      <td>NaN</td>\n",
       "      <td>0f92dddc</td>\n",
       "      <td>0b6f5a3c</td>\n",
       "      <td>ac9c5a5e</td>\n",
       "      <td>324df420</td>\n",
       "      <td>...</td>\n",
       "      <td>e2dd1f89</td>\n",
       "      <td>af748bc4</td>\n",
       "      <td>539438fe</td>\n",
       "      <td>81b73927</td>\n",
       "      <td>0f92dddc</td>\n",
       "      <td>e5a8600b</td>\n",
       "      <td>be9d46cb</td>\n",
       "      <td>4fb33344</td>\n",
       "      <td>afe7b405</td>\n",
       "      <td>f46f184b</td>\n",
       "    </tr>\n",
       "    <tr>\n",
       "      <th>1</th>\n",
       "      <td>301026010107952934</td>\n",
       "      <td>1.525719e+09</td>\n",
       "      <td>0.569</td>\n",
       "      <td>NaN</td>\n",
       "      <td>250.0</td>\n",
       "      <td>300.0</td>\n",
       "      <td>0f92dddc</td>\n",
       "      <td>8ed5aa01</td>\n",
       "      <td>acdf3b27</td>\n",
       "      <td>5df13856</td>\n",
       "      <td>...</td>\n",
       "      <td>e2dd1f89</td>\n",
       "      <td>af748bc4</td>\n",
       "      <td>539438fe</td>\n",
       "      <td>60ccf532</td>\n",
       "      <td>0f92dddc</td>\n",
       "      <td>a6175c97</td>\n",
       "      <td>4efbfa20</td>\n",
       "      <td>0f92dddc</td>\n",
       "      <td>afe7b405</td>\n",
       "      <td>28322c68</td>\n",
       "    </tr>\n",
       "    <tr>\n",
       "      <th>2</th>\n",
       "      <td>1593468802636566196</td>\n",
       "      <td>1.525719e+09</td>\n",
       "      <td>0.219</td>\n",
       "      <td>NaN</td>\n",
       "      <td>250.0</td>\n",
       "      <td>300.0</td>\n",
       "      <td>48454cb2</td>\n",
       "      <td>75a8d373</td>\n",
       "      <td>bf95698f</td>\n",
       "      <td>81d47546</td>\n",
       "      <td>...</td>\n",
       "      <td>83634957</td>\n",
       "      <td>c78aa531</td>\n",
       "      <td>539438fe</td>\n",
       "      <td>d43589af</td>\n",
       "      <td>b6ecc8b2</td>\n",
       "      <td>a6175c97</td>\n",
       "      <td>4efbfa20</td>\n",
       "      <td>0f92dddc</td>\n",
       "      <td>afe7b405</td>\n",
       "      <td>ec0691fc</td>\n",
       "    </tr>\n",
       "    <tr>\n",
       "      <th>3</th>\n",
       "      <td>851314676801512203</td>\n",
       "      <td>1.525719e+09</td>\n",
       "      <td>0.930</td>\n",
       "      <td>NaN</td>\n",
       "      <td>NaN</td>\n",
       "      <td>NaN</td>\n",
       "      <td>0f92dddc</td>\n",
       "      <td>b6866c56</td>\n",
       "      <td>47c41a85</td>\n",
       "      <td>85ac804d</td>\n",
       "      <td>...</td>\n",
       "      <td>6ff49f13</td>\n",
       "      <td>c78aa531</td>\n",
       "      <td>539438fe</td>\n",
       "      <td>f8f36dd0</td>\n",
       "      <td>0f92dddc</td>\n",
       "      <td>0774a6df</td>\n",
       "      <td>be9d46cb</td>\n",
       "      <td>1f24f24a</td>\n",
       "      <td>afe7b405</td>\n",
       "      <td>6b5b9e8f</td>\n",
       "    </tr>\n",
       "    <tr>\n",
       "      <th>4</th>\n",
       "      <td>91561499709735199</td>\n",
       "      <td>1.525721e+09</td>\n",
       "      <td>6.730</td>\n",
       "      <td>NaN</td>\n",
       "      <td>480.0</td>\n",
       "      <td>320.0</td>\n",
       "      <td>0c436334</td>\n",
       "      <td>8ed5aa01</td>\n",
       "      <td>5419c88d</td>\n",
       "      <td>f9e3361a</td>\n",
       "      <td>...</td>\n",
       "      <td>e2dd1f89</td>\n",
       "      <td>c78aa531</td>\n",
       "      <td>539438fe</td>\n",
       "      <td>81b73927</td>\n",
       "      <td>b6ecc8b2</td>\n",
       "      <td>9beb5470</td>\n",
       "      <td>be9d46cb</td>\n",
       "      <td>1181e38f</td>\n",
       "      <td>afe7b405</td>\n",
       "      <td>dd867f0a</td>\n",
       "    </tr>\n",
       "  </tbody>\n",
       "</table>\n",
       "<p>5 rows × 26 columns</p>\n",
       "</div>"
      ],
      "text/plain": [
       "                    id          time  r_bidfloor  r_age  r_height  r_width  \\\n",
       "0   292168921339466749  1.525719e+09       0.090    NaN       NaN      NaN   \n",
       "1   301026010107952934  1.525719e+09       0.569    NaN     250.0    300.0   \n",
       "2  1593468802636566196  1.525719e+09       0.219    NaN     250.0    300.0   \n",
       "3   851314676801512203  1.525719e+09       0.930    NaN       NaN      NaN   \n",
       "4    91561499709735199  1.525721e+09       6.730    NaN     480.0    320.0   \n",
       "\n",
       "  categorical_0 categorical_1 categorical_2 categorical_3      ...        \\\n",
       "0      0f92dddc      0b6f5a3c      ac9c5a5e      324df420      ...         \n",
       "1      0f92dddc      8ed5aa01      acdf3b27      5df13856      ...         \n",
       "2      48454cb2      75a8d373      bf95698f      81d47546      ...         \n",
       "3      0f92dddc      b6866c56      47c41a85      85ac804d      ...         \n",
       "4      0c436334      8ed5aa01      5419c88d      f9e3361a      ...         \n",
       "\n",
       "  categorical_10 categorical_11 categorical_12 categorical_13 categorical_14  \\\n",
       "0       e2dd1f89       af748bc4       539438fe       81b73927       0f92dddc   \n",
       "1       e2dd1f89       af748bc4       539438fe       60ccf532       0f92dddc   \n",
       "2       83634957       c78aa531       539438fe       d43589af       b6ecc8b2   \n",
       "3       6ff49f13       c78aa531       539438fe       f8f36dd0       0f92dddc   \n",
       "4       e2dd1f89       c78aa531       539438fe       81b73927       b6ecc8b2   \n",
       "\n",
       "  categorical_15 categorical_16 categorical_17 categorical_18 categorical_19  \n",
       "0       e5a8600b       be9d46cb       4fb33344       afe7b405       f46f184b  \n",
       "1       a6175c97       4efbfa20       0f92dddc       afe7b405       28322c68  \n",
       "2       a6175c97       4efbfa20       0f92dddc       afe7b405       ec0691fc  \n",
       "3       0774a6df       be9d46cb       1f24f24a       afe7b405       6b5b9e8f  \n",
       "4       9beb5470       be9d46cb       1181e38f       afe7b405       dd867f0a  \n",
       "\n",
       "[5 rows x 26 columns]"
      ]
     },
     "execution_count": 6,
     "metadata": {},
     "output_type": "execute_result"
    }
   ],
   "source": [
    "impressions.head()"
   ]
  },
  {
   "cell_type": "code",
   "execution_count": 7,
   "metadata": {},
   "outputs": [
    {
     "data": {
      "text/html": [
       "<div>\n",
       "<style scoped>\n",
       "    .dataframe tbody tr th:only-of-type {\n",
       "        vertical-align: middle;\n",
       "    }\n",
       "\n",
       "    .dataframe tbody tr th {\n",
       "        vertical-align: top;\n",
       "    }\n",
       "\n",
       "    .dataframe thead th {\n",
       "        text-align: right;\n",
       "    }\n",
       "</style>\n",
       "<table border=\"1\" class=\"dataframe\">\n",
       "  <thead>\n",
       "    <tr style=\"text-align: right;\">\n",
       "      <th></th>\n",
       "      <th>id</th>\n",
       "      <th>time</th>\n",
       "      <th>categorical_0</th>\n",
       "    </tr>\n",
       "  </thead>\n",
       "  <tbody>\n",
       "    <tr>\n",
       "      <th>0</th>\n",
       "      <td>65183818012886860</td>\n",
       "      <td>1.525722e+09</td>\n",
       "      <td>0af10f2c</td>\n",
       "    </tr>\n",
       "    <tr>\n",
       "      <th>1</th>\n",
       "      <td>2113542931232678124</td>\n",
       "      <td>1.525723e+09</td>\n",
       "      <td>fea08526</td>\n",
       "    </tr>\n",
       "    <tr>\n",
       "      <th>2</th>\n",
       "      <td>1082639249992126326</td>\n",
       "      <td>1.525722e+09</td>\n",
       "      <td>e8e0e1a5</td>\n",
       "    </tr>\n",
       "    <tr>\n",
       "      <th>3</th>\n",
       "      <td>1635761239458084446</td>\n",
       "      <td>1.525722e+09</td>\n",
       "      <td>21c51bb5</td>\n",
       "    </tr>\n",
       "    <tr>\n",
       "      <th>4</th>\n",
       "      <td>1877180330329664957</td>\n",
       "      <td>1.525723e+09</td>\n",
       "      <td>b4b7efe0</td>\n",
       "    </tr>\n",
       "  </tbody>\n",
       "</table>\n",
       "</div>"
      ],
      "text/plain": [
       "                    id          time categorical_0\n",
       "0    65183818012886860  1.525722e+09      0af10f2c\n",
       "1  2113542931232678124  1.525723e+09      fea08526\n",
       "2  1082639249992126326  1.525722e+09      e8e0e1a5\n",
       "3  1635761239458084446  1.525722e+09      21c51bb5\n",
       "4  1877180330329664957  1.525723e+09      b4b7efe0"
      ]
     },
     "execution_count": 7,
     "metadata": {},
     "output_type": "execute_result"
    }
   ],
   "source": [
    "clicks.head()"
   ]
  },
  {
   "cell_type": "markdown",
   "metadata": {},
   "source": [
    "### Ordenamos los datos por timestamp"
   ]
  },
  {
   "cell_type": "code",
   "execution_count": 8,
   "metadata": {},
   "outputs": [],
   "source": [
    "impressions = impressions.sort_values(by=['time'])\n",
    "clicks = clicks.sort_values(by=['time'])"
   ]
  },
  {
   "cell_type": "code",
   "execution_count": 9,
   "metadata": {},
   "outputs": [],
   "source": [
    "impressions['time'] = impressions['time'].apply(lambda t: pd.Timestamp(t))\n",
    "clicks['time'] = clicks['time'].apply(lambda t: pd.Timestamp(t))"
   ]
  },
  {
   "cell_type": "markdown",
   "metadata": {},
   "source": [
    "### Renombramos columnas y hacemos merge"
   ]
  },
  {
   "cell_type": "code",
   "execution_count": 10,
   "metadata": {},
   "outputs": [],
   "source": [
    "impressions = impressions.rename(columns={'time': 'imp_time'})\n",
    "clicks = clicks.rename(columns={'time': 'click_time'})\n",
    "imp_click = impressions.merge(clicks, on='id', how='inner')"
   ]
  },
  {
   "cell_type": "code",
   "execution_count": 11,
   "metadata": {},
   "outputs": [
    {
     "data": {
      "text/html": [
       "<div>\n",
       "<style scoped>\n",
       "    .dataframe tbody tr th:only-of-type {\n",
       "        vertical-align: middle;\n",
       "    }\n",
       "\n",
       "    .dataframe tbody tr th {\n",
       "        vertical-align: top;\n",
       "    }\n",
       "\n",
       "    .dataframe thead th {\n",
       "        text-align: right;\n",
       "    }\n",
       "</style>\n",
       "<table border=\"1\" class=\"dataframe\">\n",
       "  <thead>\n",
       "    <tr style=\"text-align: right;\">\n",
       "      <th></th>\n",
       "      <th>id</th>\n",
       "      <th>imp_time</th>\n",
       "      <th>r_bidfloor</th>\n",
       "      <th>r_age</th>\n",
       "      <th>r_height</th>\n",
       "      <th>r_width</th>\n",
       "      <th>categorical_0_x</th>\n",
       "      <th>categorical_1</th>\n",
       "      <th>categorical_2</th>\n",
       "      <th>categorical_3</th>\n",
       "      <th>...</th>\n",
       "      <th>categorical_12</th>\n",
       "      <th>categorical_13</th>\n",
       "      <th>categorical_14</th>\n",
       "      <th>categorical_15</th>\n",
       "      <th>categorical_16</th>\n",
       "      <th>categorical_17</th>\n",
       "      <th>categorical_18</th>\n",
       "      <th>categorical_19</th>\n",
       "      <th>click_time</th>\n",
       "      <th>categorical_0_y</th>\n",
       "    </tr>\n",
       "  </thead>\n",
       "  <tbody>\n",
       "    <tr>\n",
       "      <th>0</th>\n",
       "      <td>1388967106491182997</td>\n",
       "      <td>1970-01-01 00:00:01.525637403</td>\n",
       "      <td>0.07</td>\n",
       "      <td>NaN</td>\n",
       "      <td>90.0</td>\n",
       "      <td>728.0</td>\n",
       "      <td>0f92dddc</td>\n",
       "      <td>463cfef1</td>\n",
       "      <td>a4e20423</td>\n",
       "      <td>99c882da</td>\n",
       "      <td>...</td>\n",
       "      <td>2366e25f</td>\n",
       "      <td>0f92dddc</td>\n",
       "      <td>0f92dddc</td>\n",
       "      <td>8e28f4a3</td>\n",
       "      <td>be9d46cb</td>\n",
       "      <td>358f2411</td>\n",
       "      <td>afe7b405</td>\n",
       "      <td>06a90c7d</td>\n",
       "      <td>1970-01-01 00:00:01.525651721</td>\n",
       "      <td>a880baf8</td>\n",
       "    </tr>\n",
       "    <tr>\n",
       "      <th>1</th>\n",
       "      <td>11802553372880683</td>\n",
       "      <td>1970-01-01 00:00:01.525637602</td>\n",
       "      <td>0.43</td>\n",
       "      <td>NaN</td>\n",
       "      <td>50.0</td>\n",
       "      <td>320.0</td>\n",
       "      <td>0f92dddc</td>\n",
       "      <td>8ed5aa01</td>\n",
       "      <td>acdf3b27</td>\n",
       "      <td>b1e20f71</td>\n",
       "      <td>...</td>\n",
       "      <td>539438fe</td>\n",
       "      <td>81b73927</td>\n",
       "      <td>b6ecc8b2</td>\n",
       "      <td>72dc346c</td>\n",
       "      <td>be9d46cb</td>\n",
       "      <td>67e4e242</td>\n",
       "      <td>afe7b405</td>\n",
       "      <td>3bfe91dd</td>\n",
       "      <td>1970-01-01 00:00:01.525651628</td>\n",
       "      <td>21295cac</td>\n",
       "    </tr>\n",
       "    <tr>\n",
       "      <th>2</th>\n",
       "      <td>1886751662102221837</td>\n",
       "      <td>1970-01-01 00:00:01.525637773</td>\n",
       "      <td>0.43</td>\n",
       "      <td>NaN</td>\n",
       "      <td>50.0</td>\n",
       "      <td>320.0</td>\n",
       "      <td>0f92dddc</td>\n",
       "      <td>8ed5aa01</td>\n",
       "      <td>acdf3b27</td>\n",
       "      <td>b1e20f71</td>\n",
       "      <td>...</td>\n",
       "      <td>539438fe</td>\n",
       "      <td>81b73927</td>\n",
       "      <td>0f92dddc</td>\n",
       "      <td>72dc346c</td>\n",
       "      <td>be9d46cb</td>\n",
       "      <td>67e4e242</td>\n",
       "      <td>afe7b405</td>\n",
       "      <td>17ff64ac</td>\n",
       "      <td>1970-01-01 00:00:01.525652088</td>\n",
       "      <td>be2e9927</td>\n",
       "    </tr>\n",
       "    <tr>\n",
       "      <th>3</th>\n",
       "      <td>1570875775553557833</td>\n",
       "      <td>1970-01-01 00:00:01.525638101</td>\n",
       "      <td>0.99</td>\n",
       "      <td>NaN</td>\n",
       "      <td>480.0</td>\n",
       "      <td>320.0</td>\n",
       "      <td>0f92dddc</td>\n",
       "      <td>8ed5aa01</td>\n",
       "      <td>acdf3b27</td>\n",
       "      <td>5df13856</td>\n",
       "      <td>...</td>\n",
       "      <td>539438fe</td>\n",
       "      <td>a1170f96</td>\n",
       "      <td>0f92dddc</td>\n",
       "      <td>25cb891d</td>\n",
       "      <td>be9d46cb</td>\n",
       "      <td>986327ca</td>\n",
       "      <td>afe7b405</td>\n",
       "      <td>35b6662d</td>\n",
       "      <td>1970-01-01 00:00:01.525652010</td>\n",
       "      <td>536bbdf1</td>\n",
       "    </tr>\n",
       "    <tr>\n",
       "      <th>4</th>\n",
       "      <td>57575448066589591</td>\n",
       "      <td>1970-01-01 00:00:01.525638128</td>\n",
       "      <td>0.85</td>\n",
       "      <td>NaN</td>\n",
       "      <td>480.0</td>\n",
       "      <td>320.0</td>\n",
       "      <td>0f92dddc</td>\n",
       "      <td>8ed5aa01</td>\n",
       "      <td>acdf3b27</td>\n",
       "      <td>1e52fa9f</td>\n",
       "      <td>...</td>\n",
       "      <td>539438fe</td>\n",
       "      <td>f2149314</td>\n",
       "      <td>0f92dddc</td>\n",
       "      <td>72dc346c</td>\n",
       "      <td>be9d46cb</td>\n",
       "      <td>9b612e9e</td>\n",
       "      <td>afe7b405</td>\n",
       "      <td>28322c68</td>\n",
       "      <td>1970-01-01 00:00:01.525652377</td>\n",
       "      <td>05d1eec4</td>\n",
       "    </tr>\n",
       "  </tbody>\n",
       "</table>\n",
       "<p>5 rows × 28 columns</p>\n",
       "</div>"
      ],
      "text/plain": [
       "                    id                      imp_time  r_bidfloor  r_age  \\\n",
       "0  1388967106491182997 1970-01-01 00:00:01.525637403        0.07    NaN   \n",
       "1    11802553372880683 1970-01-01 00:00:01.525637602        0.43    NaN   \n",
       "2  1886751662102221837 1970-01-01 00:00:01.525637773        0.43    NaN   \n",
       "3  1570875775553557833 1970-01-01 00:00:01.525638101        0.99    NaN   \n",
       "4    57575448066589591 1970-01-01 00:00:01.525638128        0.85    NaN   \n",
       "\n",
       "   r_height  r_width categorical_0_x categorical_1 categorical_2  \\\n",
       "0      90.0    728.0        0f92dddc      463cfef1      a4e20423   \n",
       "1      50.0    320.0        0f92dddc      8ed5aa01      acdf3b27   \n",
       "2      50.0    320.0        0f92dddc      8ed5aa01      acdf3b27   \n",
       "3     480.0    320.0        0f92dddc      8ed5aa01      acdf3b27   \n",
       "4     480.0    320.0        0f92dddc      8ed5aa01      acdf3b27   \n",
       "\n",
       "  categorical_3       ...       categorical_12 categorical_13 categorical_14  \\\n",
       "0      99c882da       ...             2366e25f       0f92dddc       0f92dddc   \n",
       "1      b1e20f71       ...             539438fe       81b73927       b6ecc8b2   \n",
       "2      b1e20f71       ...             539438fe       81b73927       0f92dddc   \n",
       "3      5df13856       ...             539438fe       a1170f96       0f92dddc   \n",
       "4      1e52fa9f       ...             539438fe       f2149314       0f92dddc   \n",
       "\n",
       "  categorical_15 categorical_16 categorical_17 categorical_18 categorical_19  \\\n",
       "0       8e28f4a3       be9d46cb       358f2411       afe7b405       06a90c7d   \n",
       "1       72dc346c       be9d46cb       67e4e242       afe7b405       3bfe91dd   \n",
       "2       72dc346c       be9d46cb       67e4e242       afe7b405       17ff64ac   \n",
       "3       25cb891d       be9d46cb       986327ca       afe7b405       35b6662d   \n",
       "4       72dc346c       be9d46cb       9b612e9e       afe7b405       28322c68   \n",
       "\n",
       "                     click_time categorical_0_y  \n",
       "0 1970-01-01 00:00:01.525651721        a880baf8  \n",
       "1 1970-01-01 00:00:01.525651628        21295cac  \n",
       "2 1970-01-01 00:00:01.525652088        be2e9927  \n",
       "3 1970-01-01 00:00:01.525652010        536bbdf1  \n",
       "4 1970-01-01 00:00:01.525652377        05d1eec4  \n",
       "\n",
       "[5 rows x 28 columns]"
      ]
     },
     "execution_count": 11,
     "metadata": {},
     "output_type": "execute_result"
    }
   ],
   "source": [
    "imp_click.head()"
   ]
  },
  {
   "cell_type": "markdown",
   "metadata": {},
   "source": [
    "### Filtramos los datos correspondientes impresiones clickeadas (tiempo de click <= 2hs del tiempo de impresion)"
   ]
  },
  {
   "cell_type": "code",
   "execution_count": 12,
   "metadata": {},
   "outputs": [],
   "source": [
    "two_hours = pd.Timedelta(value=2, unit='h')"
   ]
  },
  {
   "cell_type": "code",
   "execution_count": 13,
   "metadata": {},
   "outputs": [
    {
     "name": "stdout",
     "output_type": "stream",
     "text": [
      "1970-01-01 00:00:01.525651721\n",
      "1970-01-01 00:00:01.525637403\n",
      "True\n"
     ]
    }
   ],
   "source": [
    "print(imp_click['click_time'][0])\n",
    "print(imp_click['imp_time'][0])\n",
    "print(imp_click['click_time'][0] - imp_click['imp_time'][0] <= two_hours)"
   ]
  },
  {
   "cell_type": "code",
   "execution_count": 14,
   "metadata": {},
   "outputs": [],
   "source": [
    "imp_click = imp_click[imp_click['click_time'] - imp_click['imp_time'] <= two_hours]"
   ]
  },
  {
   "cell_type": "markdown",
   "metadata": {},
   "source": [
    "### Obtenemos los id de las impresiones que fueron clickeadas"
   ]
  },
  {
   "cell_type": "code",
   "execution_count": 15,
   "metadata": {},
   "outputs": [
    {
     "data": {
      "text/plain": [
       "array([1388967106491182997,   11802553372880683, 1886751662102221837, ...,\n",
       "        967298350074953235, 1580429568371884474,   65466946037129166])"
      ]
     },
     "execution_count": 15,
     "metadata": {},
     "output_type": "execute_result"
    }
   ],
   "source": [
    "clicks_id = imp_click['id'].unique()\n",
    "clicks_id"
   ]
  },
  {
   "cell_type": "markdown",
   "metadata": {},
   "source": [
    "### Agregamos la columna 'target' que va a contener:\n",
    "\n",
    "0: si la impresion fue clickeada.\n",
    "\n",
    "1: caso contrario."
   ]
  },
  {
   "cell_type": "code",
   "execution_count": 16,
   "metadata": {},
   "outputs": [],
   "source": [
    "def get_target(imp_id):\n",
    "    if imp_id in clicks_id:\n",
    "        return 0\n",
    "    else:\n",
    "        return 1\n",
    "impressions['target'] = impressions['id'].apply(lambda imp_id: get_target(imp_id))"
   ]
  },
  {
   "cell_type": "code",
   "execution_count": 17,
   "metadata": {},
   "outputs": [
    {
     "data": {
      "text/plain": [
       "1    3488301\n",
       "0     145809\n",
       "Name: target, dtype: int64"
      ]
     },
     "execution_count": 17,
     "metadata": {},
     "output_type": "execute_result"
    }
   ],
   "source": [
    "impressions['target'].value_counts()"
   ]
  },
  {
   "cell_type": "markdown",
   "metadata": {},
   "source": [
    "Como era de esperarse el dataset se encuentra desbalanceado ya que en la mayoria de los casos las impresiones no provocan que el usuario realice un click."
   ]
  },
  {
   "cell_type": "markdown",
   "metadata": {},
   "source": [
    "### Dividimos los datos en train - validation - test"
   ]
  },
  {
   "cell_type": "code",
   "execution_count": 18,
   "metadata": {},
   "outputs": [],
   "source": [
    "train, test = train_test_split(impressions, test_size= 0.1)\n",
    "train, val = train_test_split(train, test_size=0.1)"
   ]
  },
  {
   "cell_type": "code",
   "execution_count": 19,
   "metadata": {},
   "outputs": [
    {
     "name": "stdout",
     "output_type": "stream",
     "text": [
      "(2943629, 27)\n",
      "(327070, 27)\n",
      "(363411, 27)\n"
     ]
    }
   ],
   "source": [
    "print(train.shape)\n",
    "print(val.shape)\n",
    "print(test.shape)"
   ]
  },
  {
   "cell_type": "code",
   "execution_count": 20,
   "metadata": {},
   "outputs": [
    {
     "name": "stdout",
     "output_type": "stream",
     "text": [
      "1    2825654\n",
      "0     117975\n",
      "Name: target, dtype: int64\n",
      "1    313840\n",
      "0     13230\n",
      "Name: target, dtype: int64\n",
      "1    348807\n",
      "0     14604\n",
      "Name: target, dtype: int64\n"
     ]
    }
   ],
   "source": [
    "print(train['target'].value_counts())\n",
    "print(val['target'].value_counts())\n",
    "print(test['target'].value_counts())"
   ]
  },
  {
   "cell_type": "markdown",
   "metadata": {},
   "source": [
    "Los datos están relativamente bien distribuidos en el split"
   ]
  },
  {
   "cell_type": "markdown",
   "metadata": {},
   "source": [
    "### Decidamos que features van a ser utilizados en nuestros modelo"
   ]
  },
  {
   "cell_type": "code",
   "execution_count": 21,
   "metadata": {},
   "outputs": [
    {
     "data": {
      "text/plain": [
       "array(['id', 'imp_time', 'r_bidfloor', 'r_age', 'r_height', 'r_width',\n",
       "       'categorical_0', 'categorical_1', 'categorical_2', 'categorical_3',\n",
       "       'categorical_4', 'categorical_5', 'categorical_6', 'categorical_7',\n",
       "       'categorical_8', 'categorical_9', 'categorical_10',\n",
       "       'categorical_11', 'categorical_12', 'categorical_13',\n",
       "       'categorical_14', 'categorical_15', 'categorical_16',\n",
       "       'categorical_17', 'categorical_18', 'categorical_19', 'target'],\n",
       "      dtype=object)"
      ]
     },
     "execution_count": 21,
     "metadata": {},
     "output_type": "execute_result"
    }
   ],
   "source": [
    "train.columns.values"
   ]
  },
  {
   "cell_type": "markdown",
   "metadata": {},
   "source": [
    "Elegimos quedarnos solo con los atributos 'r_bidfloor', 'r_age', 'r_height' y 'r_width'"
   ]
  },
  {
   "cell_type": "code",
   "execution_count": 22,
   "metadata": {},
   "outputs": [
    {
     "data": {
      "text/plain": [
       "array(['r_bidfloor', 'r_age', 'r_height', 'r_width'], dtype=object)"
      ]
     },
     "execution_count": 22,
     "metadata": {},
     "output_type": "execute_result"
    }
   ],
   "source": [
    "train.columns.values[2:6]"
   ]
  },
  {
   "cell_type": "code",
   "execution_count": 23,
   "metadata": {},
   "outputs": [],
   "source": [
    "X_train = train.filter(items=train.columns.values[2:6])\n",
    "y_train = train.filter(items=['target'])\n",
    "X_val = val.filter(items=val.columns.values[2:6])\n",
    "y_val = val.filter(items=['target'])\n",
    "X_test = test.filter(items=test.columns.values[2:6])\n",
    "y_test = test.filter(items=['target'])"
   ]
  },
  {
   "cell_type": "code",
   "execution_count": 24,
   "metadata": {},
   "outputs": [
    {
     "data": {
      "text/html": [
       "<div>\n",
       "<style scoped>\n",
       "    .dataframe tbody tr th:only-of-type {\n",
       "        vertical-align: middle;\n",
       "    }\n",
       "\n",
       "    .dataframe tbody tr th {\n",
       "        vertical-align: top;\n",
       "    }\n",
       "\n",
       "    .dataframe thead th {\n",
       "        text-align: right;\n",
       "    }\n",
       "</style>\n",
       "<table border=\"1\" class=\"dataframe\">\n",
       "  <thead>\n",
       "    <tr style=\"text-align: right;\">\n",
       "      <th></th>\n",
       "      <th>r_bidfloor</th>\n",
       "      <th>r_age</th>\n",
       "      <th>r_height</th>\n",
       "      <th>r_width</th>\n",
       "    </tr>\n",
       "  </thead>\n",
       "  <tbody>\n",
       "    <tr>\n",
       "      <th>824527</th>\n",
       "      <td>0.170000</td>\n",
       "      <td>NaN</td>\n",
       "      <td>NaN</td>\n",
       "      <td>NaN</td>\n",
       "    </tr>\n",
       "    <tr>\n",
       "      <th>2539004</th>\n",
       "      <td>0.020000</td>\n",
       "      <td>NaN</td>\n",
       "      <td>320.0</td>\n",
       "      <td>480.0</td>\n",
       "    </tr>\n",
       "    <tr>\n",
       "      <th>2712070</th>\n",
       "      <td>0.040000</td>\n",
       "      <td>NaN</td>\n",
       "      <td>NaN</td>\n",
       "      <td>NaN</td>\n",
       "    </tr>\n",
       "    <tr>\n",
       "      <th>2558764</th>\n",
       "      <td>0.219178</td>\n",
       "      <td>NaN</td>\n",
       "      <td>320.0</td>\n",
       "      <td>480.0</td>\n",
       "    </tr>\n",
       "    <tr>\n",
       "      <th>1530295</th>\n",
       "      <td>0.020000</td>\n",
       "      <td>NaN</td>\n",
       "      <td>250.0</td>\n",
       "      <td>300.0</td>\n",
       "    </tr>\n",
       "  </tbody>\n",
       "</table>\n",
       "</div>"
      ],
      "text/plain": [
       "         r_bidfloor  r_age  r_height  r_width\n",
       "824527     0.170000    NaN       NaN      NaN\n",
       "2539004    0.020000    NaN     320.0    480.0\n",
       "2712070    0.040000    NaN       NaN      NaN\n",
       "2558764    0.219178    NaN     320.0    480.0\n",
       "1530295    0.020000    NaN     250.0    300.0"
      ]
     },
     "execution_count": 24,
     "metadata": {},
     "output_type": "execute_result"
    }
   ],
   "source": [
    "X_train.head()"
   ]
  },
  {
   "cell_type": "markdown",
   "metadata": {},
   "source": [
    "Complamos los valores nan con 0s"
   ]
  },
  {
   "cell_type": "code",
   "execution_count": 25,
   "metadata": {},
   "outputs": [],
   "source": [
    "X_train = X_train.fillna(value=0)\n",
    "X_val = X_val.fillna(value=0)\n",
    "X_test = X_test.fillna(value=0)"
   ]
  },
  {
   "cell_type": "markdown",
   "metadata": {},
   "source": [
    "### Si bien faltaria visualizar un poco los datos (posiblemente luego de aplicar PCA) por cuestiones de tiempo pasemos a aplicar directamente algun modelo."
   ]
  },
  {
   "cell_type": "code",
   "execution_count": 27,
   "metadata": {},
   "outputs": [],
   "source": [
    "model = LogisticRegression(random_state=0)"
   ]
  },
  {
   "cell_type": "code",
   "execution_count": 39,
   "metadata": {},
   "outputs": [
    {
     "data": {
      "text/plain": [
       "LogisticRegression(C=1.0, class_weight=None, dual=False, fit_intercept=True,\n",
       "          intercept_scaling=1, max_iter=100, multi_class='ovr', n_jobs=1,\n",
       "          penalty='l2', random_state=0, solver='liblinear', tol=0.0001,\n",
       "          verbose=0, warm_start=False)"
      ]
     },
     "execution_count": 39,
     "metadata": {},
     "output_type": "execute_result"
    }
   ],
   "source": [
    "model.fit(np.array(X_train), y_train.values.ravel())"
   ]
  },
  {
   "cell_type": "code",
   "execution_count": 49,
   "metadata": {},
   "outputs": [
    {
     "name": "stdout",
     "output_type": "stream",
     "text": [
      "Validation f1_score 0.9793190612907252\n",
      "Validation accuracy_score 0.9594765646497692\n",
      "Test f1_score 0.9794434568691711\n",
      "Test accuracy_score 0.9597150333919446\n"
     ]
    }
   ],
   "source": [
    "y_pred = model.predict(X_val)\n",
    "print('Validation f1_score', f1_score(y_val, y_pred))\n",
    "print('Validation accuracy_score', accuracy_score(y_val, y_pred))\n",
    "y_pred = model.predict(X_test)\n",
    "print('Test f1_score', f1_score(y_test, y_pred))\n",
    "print('Test accuracy_score', accuracy_score(y_test, y_pred))"
   ]
  },
  {
   "cell_type": "markdown",
   "metadata": {},
   "source": [
    "Conclusiones hasta el momento:\n",
    "\n",
    "Se obtienen buenos resultados simplemente utilizando el modelo LogisticRegression sin realizar ajuste de hiperparámetros o incluso una mejor ingenieria de features, lo cual nos da un baseline muy prometedor.\n",
    "\n",
    "Al ser un dataset desbalanceado a nivel de clases en particular es bueno prestarle atención a la métrica f1_score en lugar de accuracy. Se podría también trabajar con técnicas de upsampling o downsampling sobre los datos para balancear los datos.\n",
    "\n",
    "También se podrían utilizar otros modelos como SVM o RandomForest y ver que performance se obtiene. En caso de que ajustando hiperparametros o cambiando a otro modelo lineal no se obtengan mejores resultados siempre se puede intentar con modelos no lineales más complejos como son las redes neuronales que pueden ajustar a priori mejor los datos cuando los mismos no son linealmente separables."
   ]
  },
  {
   "cell_type": "code",
   "execution_count": null,
   "metadata": {},
   "outputs": [],
   "source": []
  }
 ],
 "metadata": {
  "kernelspec": {
   "display_name": "Python 3",
   "language": "python",
   "name": "python3"
  },
  "language_info": {
   "codemirror_mode": {
    "name": "ipython",
    "version": 3
   },
   "file_extension": ".py",
   "mimetype": "text/x-python",
   "name": "python",
   "nbconvert_exporter": "python",
   "pygments_lexer": "ipython3",
   "version": "3.5.6"
  }
 },
 "nbformat": 4,
 "nbformat_minor": 2
}
