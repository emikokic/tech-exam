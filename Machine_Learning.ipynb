{
 "cells": [
  {
   "cell_type": "markdown",
   "metadata": {},
   "source": [
    "# Machine Learning Exercise"
   ]
  },
  {
   "cell_type": "markdown",
   "metadata": {},
   "source": [
    "En la industria de la publicidad online, se llama impresión a cuando se muestra un anuncio a un usuario, y click, a cuando el usuario clickea el mismo, y en los casos en los que se hace click, ambos eventos son guardados compartiendo un identificador correspondiente a la transacción.\n",
    "\n",
    "A menudo se considera una tarea importante la capacidad de las empresas para predecir que usuarios van a hacer click en un anuncio antes de mostrarlo, ya que puede haber más de un anuncio disponible y mostrarlo incurre un costo.\n",
    "\n",
    "Se cuenta con una base de datos con el siguiente esquema:\n",
    "\n",
    "![alt text](./scheme_imps_clicks.png)\n",
    "\n",
    "\n",
    "Aquí ([descargar](https://drive.google.com/uc?id=1fmhC3Wjvp_n7pMcKKL8ZQPXZng5QW8bb&export=download)) se cuenta con una base de datos sqlite3 con datos de ejemplo, para trabajar.\n",
    "\n",
    "La misma cuenta con una muestra de unos pocos días de datos, en la que las variables categóricas han sido hasheadas para mantener los nombres anónimos, esto puede considerarse irrelevante, las mismas corresponden a datos como el país donde ocurrió la impresión o a que cliente y proveedor corresponde.\n",
    "\n",
    "\n"
   ]
  },
  {
   "cell_type": "markdown",
   "metadata": {},
   "source": [
    "1. Utilizar la base de datos para entrenar un modelo para estimar si una impresión va a ser clickeada.\n",
    "Nota: se considera que una impresión fue clickeada, si hay un click con el mismo id cuyo timestamp es lo sumo 2 horas mayor al de la impresión\n",
    "Se deben utilizar los primeros días de datos como datos de entrenamiento y el último día como test para evaluar su modelo.\n",
    "2. Describa el modelo, algoritmo y metodología utilizada.\n",
    "3. Presente brevemente los resultados obtenidos. Como los evaluó? Por qué?\n",
    "4. Bonus: Cambiaría algo a su solución si la base de datos fuese 10 veces más grande que la provista? Que?"
   ]
  },
  {
   "cell_type": "code",
   "execution_count": 2,
   "metadata": {},
   "outputs": [],
   "source": [
    "import pandas as pd\n",
    "import sqlite3"
   ]
  },
  {
   "cell_type": "code",
   "execution_count": 4,
   "metadata": {},
   "outputs": [],
   "source": [
    "cnx = sqlite3.connect('imps_clicks.db.2')"
   ]
  },
  {
   "cell_type": "code",
   "execution_count": null,
   "metadata": {},
   "outputs": [],
   "source": []
  },
  {
   "cell_type": "code",
   "execution_count": null,
   "metadata": {},
   "outputs": [],
   "source": [
    "impressions = pd.read_sql_query(\"SELECT * FROM Impressions\", cnx)"
   ]
  }
 ],
 "metadata": {
  "kernelspec": {
   "display_name": "Python 3",
   "language": "python",
   "name": "python3"
  },
  "language_info": {
   "codemirror_mode": {
    "name": "ipython",
    "version": 3
   },
   "file_extension": ".py",
   "mimetype": "text/x-python",
   "name": "python",
   "nbconvert_exporter": "python",
   "pygments_lexer": "ipython3",
   "version": "3.6.5"
  }
 },
 "nbformat": 4,
 "nbformat_minor": 2
}
