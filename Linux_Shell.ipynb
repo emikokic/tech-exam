{
 "cells": [
  {
   "cell_type": "markdown",
   "metadata": {},
   "source": [
    "# Linux Shell"
   ]
  },
  {
   "cell_type": "markdown",
   "metadata": {},
   "source": [
    "Ejercicio 1. Conteste ​al menos tres​​ de las siguientes preguntas\n",
    "\n",
    "a. ¿Con que comando contaría la cantidad de veces que aparece la palabra ​Unix​ en un archivo?\n",
    "\n",
    "    grep -c \"<word>\" <filepath>\n",
    "    \n",
    "    Example: grep -c \"tech\" README.md\n",
    "\n",
    "b. ¿Para qué sirve el comando chmod? ¿Qué se entiende por la línea r-- -w- --x? ¿Numéricamente a qué valores corresponde?\n",
    "\n",
    "    El comando chmod se utiliza para dar o quitar permisos de lectura, escritura y/o ejecución a los distintos archivos (files).\n",
    "    La línea r-- -w- --x determina que el file en cuestión contiene permisos de lectura a nivel de propietario, de escritura a nivel de grupo y de ejecución a nivel público (cualquier user lo puede ejecutar).\n",
    "    Numéricamente corresponde al valor 421.\n",
    "\n",
    "c. Se necesita liberar espacio en el disco donde está montado el directorio ​home​ del usuario ​ec2-user.​ ¿Qué comandos, métodos o lógica utilizaría para ver qué archivos conviene borrar?\n",
    "\n",
    "    No lo se pero seguro que rm -rf * no es una buena opción :P\n",
    "\n",
    "d. ¿Cómo reemplazaría todas las ocurrencias de la palabra ​Unix​ por ​UNIX​ en el archivo unix_test_file?\n",
    "\n",
    "    sed -i 's/Unix/UNIX/g' unix_test_file\n",
    "\n",
    "e. ¿Qué comando o método utilizaría para ver constantemente las últimas 100 líneas con la palabra ERROR que se van apendeando a un archivo de log?\n",
    "\n",
    "    tail -n 100 <logfilepath> | grep \"ERROR\""
   ]
  },
  {
   "cell_type": "markdown",
   "metadata": {},
   "source": []
  }
 ],
 "metadata": {
  "kernelspec": {
   "display_name": "Python 3",
   "language": "python",
   "name": "python3"
  },
  "language_info": {
   "codemirror_mode": {
    "name": "ipython",
    "version": 3
   },
   "file_extension": ".py",
   "mimetype": "text/x-python",
   "name": "python",
   "nbconvert_exporter": "python",
   "pygments_lexer": "ipython3",
   "version": "3.6.5"
  }
 },
 "nbformat": 4,
 "nbformat_minor": 2
}
