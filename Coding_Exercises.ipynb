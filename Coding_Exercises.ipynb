{
 "cells": [
  {
   "cell_type": "markdown",
   "metadata": {},
   "source": [
    "# Coding Exercises"
   ]
  },
  {
   "cell_type": "code",
   "execution_count": 43,
   "metadata": {},
   "outputs": [],
   "source": [
    "import numpy as np\n",
    "import random"
   ]
  },
  {
   "cell_type": "markdown",
   "metadata": {},
   "source": [
    "Ejercicio 1. Tenemos una matriz de elementos, donde:\n",
    "\n",
    "- Cada fila está ordenada de menor a mayor.\n",
    "- El último elemento de cada fila es menor que el primero de la siguiente.\n",
    "\n",
    "Implemente una función que devuelva si un número pertenece a la matriz o no. \n",
    "\n",
    "Ejemplo:\n",
    "\n",
    "            matriz = [[1, 3, 5],\n",
    "                      [7, 9, 11],\n",
    "                      [13, 15, 17]]\n",
    "            > funcion(matriz, 7)\n",
    "            True\n",
    "            > funcion(matriz, 4)\n",
    "            False"
   ]
  },
  {
   "cell_type": "code",
   "execution_count": 5,
   "metadata": {},
   "outputs": [
    {
     "data": {
      "text/plain": [
       "(4, 3)"
      ]
     },
     "execution_count": 5,
     "metadata": {},
     "output_type": "execute_result"
    }
   ],
   "source": [
    "m = np.array([[1,3,5], [7,9,11], [13,15,17], [19,24,45]])\n",
    "m.shape"
   ]
  },
  {
   "cell_type": "code",
   "execution_count": 36,
   "metadata": {},
   "outputs": [],
   "source": [
    "def isInMatrix(elem, matrix):\n",
    "    '''\n",
    "    elem: int\n",
    "    matrix: numpy array\n",
    "    \n",
    "    return True if the elem is in the matrix, False otherwise.\n",
    "    '''\n",
    "    if matrix.ndim == 2: # only the first time should be executed\n",
    "        matrix = matrix.flatten()\n",
    "    L = len(matrix)\n",
    "    if L == 0:\n",
    "        return False # The elem is not in the matrix.\n",
    "    i = L // 2\n",
    "    if (matrix[i] == elem):\n",
    "        return True\n",
    "    if (matrix[i] < elem):\n",
    "        matrix = matrix[i+1:L]\n",
    "        return isInMatrix(elem, matrix)\n",
    "    if (matrix[i] > elem):\n",
    "        matrix = matrix[0:i]\n",
    "        return isInMatrix(elem, matrix)"
   ]
  },
  {
   "cell_type": "markdown",
   "metadata": {},
   "source": [
    "Resolución: la idea de la implementación surge con el hecho de aprovechar que los elementos de la matrix en cuestion ya se encuentran ordenados, en una matriz mucho más grande si se notaria que esta busqueda en forma de arbol es mas performante que hacerlo netamente secuencial."
   ]
  },
  {
   "cell_type": "markdown",
   "metadata": {},
   "source": []
  },
  {
   "cell_type": "markdown",
   "metadata": {},
   "source": [
    "Ejercicio 2. Se sospecha que la siguiente función contiene un error. Valide si lo tiene y en caso de que lo tenga, corríjalo.\n",
    "\n",
    "La función devuelve valores aleatoriamente de una lista, de acuerdo a su peso.\n",
    "\n",
    "Por ejemplo ​weighted_random([1, 2, 3], [0.5, 0.3, 0.2])​, debería devolver ​1​ con un ​50%​ de probabilidades, ​2​ con un ​30%​ y ​3​ con un ​20%.​"
   ]
  },
  {
   "cell_type": "code",
   "execution_count": null,
   "metadata": {},
   "outputs": [],
   "source": [
    "# Original version\n",
    "def weighted_random(values, weights):\n",
    "    total_weight = sum(weights)\n",
    "    acum_weights = [w / total_weight for w in weights[:]] \n",
    "    for i in range(len(weights)):\n",
    "        acum_weights[i] += acum_weights[i]\n",
    "    rand = random.random()\n",
    "    for value, weight in zip(values, acum_weights):\n",
    "        if weight > rand: \n",
    "            return value"
   ]
  },
  {
   "cell_type": "code",
   "execution_count": 71,
   "metadata": {},
   "outputs": [],
   "source": [
    "# Fixed version\n",
    "def weighted_random_fixed(values, weights):\n",
    "    acum_weights = weights\n",
    "    for i in range(len(acum_weights) - 1):\n",
    "        acum_weights[i+1] += acum_weights[i]\n",
    "    rand = random.random()\n",
    "    for value, weight in zip(values, acum_weights):\n",
    "        if weight > rand: \n",
    "            return value"
   ]
  },
  {
   "cell_type": "markdown",
   "metadata": {},
   "source": [
    "Resolución: aparte de que el codigo se podia simplificar, el error se encontraba cuando acumulaba los pesos en el primer for"
   ]
  },
  {
   "cell_type": "code",
   "execution_count": null,
   "metadata": {},
   "outputs": [],
   "source": []
  }
 ],
 "metadata": {
  "kernelspec": {
   "display_name": "Python 3",
   "language": "python",
   "name": "python3"
  },
  "language_info": {
   "codemirror_mode": {
    "name": "ipython",
    "version": 3
   },
   "file_extension": ".py",
   "mimetype": "text/x-python",
   "name": "python",
   "nbconvert_exporter": "python",
   "pygments_lexer": "ipython3",
   "version": "3.6.5"
  }
 },
 "nbformat": 4,
 "nbformat_minor": 2
}
